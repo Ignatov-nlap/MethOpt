{
 "cells": [
  {
   "cell_type": "code",
   "execution_count": 1,
   "metadata": {
    "collapsed": true
   },
   "outputs": [],
   "source": [
    "import numpy as np\n",
    "import scipy as sp\n",
    "import pandas as pd\n",
    "from numpy import random\n",
    "from numpy import matlib\n",
    "import matplotlib.pyplot as plt\n",
    "import math\n",
    "import InitialPoint, Problem, Schedule, Trip\n",
    "import warnings\n",
    "from itertools import permutations\n",
    "import copy\n",
    "import importlib\n",
    "warnings.filterwarnings('ignore')\n",
    "%matplotlib inline"
   ]
  },
  {
   "cell_type": "code",
   "execution_count": 2,
   "metadata": {
    "collapsed": false
   },
   "outputs": [],
   "source": [
    "importlib.reload(Trip);\n",
    "importlib.reload(Schedule);\n",
    "importlib.reload(Problem);"
   ]
  },
  {
   "cell_type": "code",
   "execution_count": 3,
   "metadata": {
    "collapsed": true
   },
   "outputs": [],
   "source": [
    "n = 10000\n",
    "gifts = pd.read_csv('gifts.csv')\n",
    "gifts = gifts[:n]\n",
    "greedy_clustering = InitialPoint.get_initial_solution(gifts.copy())[['GiftId', 'TripId']]"
   ]
  },
  {
   "cell_type": "code",
   "execution_count": null,
   "metadata": {
    "collapsed": false,
    "scrolled": true
   },
   "outputs": [],
   "source": [
    "problem=Problem.Problem(gifts, greedy_clustering)\n",
    "schedule10000, objs10000=simulated_annealing(problem, greedy_clustering, verbose=False, T=1000, mu=1.00002, max_iter=100001)"
   ]
  },
  {
   "cell_type": "code",
   "execution_count": 3,
   "metadata": {
    "collapsed": false
   },
   "outputs": [],
   "source": [
    "n = 1000\n",
    "gifts = pd.read_csv('gifts.csv')\n",
    "gifts = gifts[:n]\n",
    "greedy_clustering = InitialPoint.get_initial_solution(gifts.copy())[['GiftId', 'TripId']]"
   ]
  },
  {
   "cell_type": "code",
   "execution_count": 4,
   "metadata": {
    "collapsed": false
   },
   "outputs": [],
   "source": [
    "problem=Problem.Problem(gifts, greedy_clustering)"
   ]
  },
  {
   "cell_type": "code",
   "execution_count": 5,
   "metadata": {
    "collapsed": false
   },
   "outputs": [],
   "source": [
    "greedy_solution = problem.Greedy_solver()\n",
    "random_solution = problem.Randomize_solver()"
   ]
  },
  {
   "cell_type": "code",
   "execution_count": 5,
   "metadata": {
    "collapsed": true
   },
   "outputs": [],
   "source": [
    "def simulated_annealing(problem, init_solution, T=10000, mu=1.0002, T_stop=1e+2, max_iter=100000+1, verbose=False):\n",
    "    schedule = Schedule.Schedule(problem, init_solution)\n",
    "    n_iter = 0\n",
    "    objs = []\n",
    "    while T>T_stop and n_iter < max_iter:\n",
    "        schedule.do_random_move(T, verbose)\n",
    "        if n_iter%10000 == 0:\n",
    "            objs.append((n_iter, schedule.best_wrw))\n",
    "            print(n_iter, T, schedule.get_total_wrw())\n",
    "        if n_iter%10 == 0:\n",
    "            T/=mu\n",
    "        n_iter+=1\n",
    "    return schedule, objs"
   ]
  },
  {
   "cell_type": "code",
   "execution_count": 11,
   "metadata": {
    "collapsed": true
   },
   "outputs": [
    {
     "name": "stdout",
     "output_type": "stream",
     "text": [
      "0 1000 252444631.299\n",
      "5000 990.0499327528815 140619899.997\n",
      "10000 980.1988693439846 139541856.654\n",
      "15000 970.4458246784616 139255974.229\n",
      "20000 960.7898234632249 138901723.769\n",
      "25000 951.2299001094186 138620011.388\n",
      "30000 941.7650986358602 138468740.523\n",
      "35000 932.3944725734439 138405351.352\n",
      "40000 923.1170848704962 138304983.791\n",
      "45000 913.932007799071 138301290.129\n",
      "50000 904.8383228621767 138302574.599\n",
      "55000 895.8351207019278 138193217.281\n",
      "60000 886.9215010086132 138158890.191\n",
      "65000 878.0965724306633 138095360.386\n",
      "70000 869.359452485514 138072734.36\n",
      "75000 860.7092674713641 137966461.332\n",
      "80000 852.1451523798047 137838805.74\n",
      "85000 843.6662508093186 137749605.258\n",
      "90000 835.2717148796414 137716417.797\n",
      "95000 826.9607051469736 137701761.144\n",
      "100000 818.7323905200365 137674281.735\n"
     ]
    }
   ],
   "source": [
    "schedule1000, objs1000=simulated_annealing(problem, greedy_solution, verbose=False, T=1000, mu=1.00002, max_iter=100001)"
   ]
  },
  {
   "cell_type": "code",
   "execution_count": 13,
   "metadata": {
    "collapsed": false
   },
   "outputs": [
    {
     "data": {
      "text/plain": [
       "137673225.88437253"
      ]
     },
     "execution_count": 13,
     "metadata": {},
     "output_type": "execute_result"
    }
   ],
   "source": [
    "schedule1000.best_wrw"
   ]
  },
  {
   "cell_type": "code",
   "execution_count": 14,
   "metadata": {
    "collapsed": false
   },
   "outputs": [
    {
     "data": {
      "text/plain": [
       "96"
      ]
     },
     "execution_count": 14,
     "metadata": {},
     "output_type": "execute_result"
    }
   ],
   "source": [
    "len(schedule1000.best_trips)"
   ]
  },
  {
   "cell_type": "code",
   "execution_count": 239,
   "metadata": {
    "collapsed": false
   },
   "outputs": [],
   "source": [
    "df1000 = schedule1000.export_to_pandas()\n",
    "df1000.to_csv('sa_1000.csv')"
   ]
  },
  {
   "cell_type": "code",
   "execution_count": 71,
   "metadata": {
    "collapsed": false
   },
   "outputs": [
    {
     "data": {
      "image/png": "[encoded data removed]",
      "text/plain": [
       "<matplotlib.figure.Figure at 0x11e1a3358>"
      ]
     },
     "metadata": {},
     "output_type": "display_data"
    }
   ],
   "source": [
    "# plt.ylim((130000000, objs1000[0][1]))\n",
    "plt.plot(np.array(objs1000).T[1], label='Clustering init')\n",
    "plt.plot(np.array(objs1000_greedy).T[1], label='Greedy solver init')\n",
    "plt.legend(loc=0, numpoints = 1)\n",
    "plt.show()"
   ]
  },
  {
   "cell_type": "code",
   "execution_count": 16,
   "metadata": {
    "collapsed": true
   },
   "outputs": [],
   "source": [
    "n = 100\n",
    "gifts = pd.read_csv('gifts.csv')\n",
    "gifts = gifts[:n]\n",
    "sample_submission= pd.read_csv('sample_submission.csv')[:n]\n",
    "greedy_clustering = InitialPoint.get_initial_solution(gifts.copy())[['GiftId', 'TripId']]"
   ]
  },
  {
   "cell_type": "code",
   "execution_count": 21,
   "metadata": {
    "collapsed": true
   },
   "outputs": [
    {
     "name": "stdout",
     "output_type": "stream",
     "text": [
      "0 2000 106651445.689\n",
      "10000 1960.3977386879692 14961298.2456\n",
      "20000 1921.5796469264499 14707772.1146\n",
      "30000 1883.5301972717205 14612910.8964\n",
      "40000 1846.2341697409925 14398122.397\n",
      "50000 1809.6766457243534 14369053.5256\n",
      "60000 1773.8430020172264 14369053.5256\n",
      "70000 1738.718904971028 14371970.5021\n",
      "80000 1704.2903047596094 14370750.4152\n",
      "90000 1670.5434297592828 14370683.9572\n",
      "100000 1637.464781040073 14243186.9013\n",
      "110000 1605.0411269660756 14241966.8144\n",
      "120000 1573.2594979027424 14240306.6897\n",
      "130000 1542.1071810289484 14237729.3098\n",
      "140000 1511.5717152518168 14237729.3098\n",
      "150000 1481.640886222177 14237729.3098\n",
      "160000 1452.3027214487997 14237729.3098\n",
      "170000 1423.5454855093087 14237729.3098\n",
      "180000 1395.3576753559557 14237729.3098\n",
      "190000 1367.728015714361 14237729.3098\n",
      "200000 1340.6454545733097 14237729.3098\n"
     ]
    }
   ],
   "source": [
    "schedule100, objs100=simulated_annealing(problem, greedy_clustering, verbose=False, T=2000, mu=1.00002, max_iter=200001)"
   ]
  },
  {
   "cell_type": "code",
   "execution_count": 24,
   "metadata": {
    "collapsed": false
   },
   "outputs": [
    {
     "data": {
      "text/plain": [
       "14237729.309835013"
      ]
     },
     "execution_count": 24,
     "metadata": {},
     "output_type": "execute_result"
    }
   ],
   "source": [
    "schedule100.best_wrw"
   ]
  },
  {
   "cell_type": "code",
   "execution_count": 25,
   "metadata": {
    "collapsed": true
   },
   "outputs": [],
   "source": [
    "n = 50\n",
    "gifts = pd.read_csv('gifts.csv')\n",
    "gifts = gifts[:n]\n",
    "sample_submission= pd.read_csv('sample_submission.csv')[:n]\n",
    "greedy_clustering = InitialPoint.get_initial_solution(gifts.copy())[['GiftId', 'TripId']]"
   ]
  },
  {
   "cell_type": "code",
   "execution_count": 30,
   "metadata": {
    "collapsed": true
   },
   "outputs": [
    {
     "name": "stdout",
     "output_type": "stream",
     "text": [
      "0 10000 73286542.6126\n",
      "10000 9801.988693439864 8045568.82734\n",
      "20000 9607.898234632286 7899380.74527\n",
      "30000 9417.650986358634 7954064.52562\n",
      "40000 9231.170848705013 7767865.40401\n",
      "50000 9048.383228621798 7852299.27647\n",
      "60000 8869.215010086167 7790000.71001\n",
      "70000 8693.59452485517 7790779.379\n",
      "80000 8521.451523798065 7793544.46389\n",
      "90000 8352.71714879647 7801114.30917\n",
      "100000 8187.323905200416 7865110.62117\n",
      "110000 8025.205634830443 7859439.45473\n",
      "120000 7866.29748951378 7854793.11528\n",
      "130000 7710.535905144844 7797929.37342\n",
      "140000 7557.858576259174 7803504.91374\n",
      "150000 7408.204431110979 7766663.07511\n",
      "160000 7261.513607244083 7736684.16219\n",
      "170000 7117.727427546607 7715101.73661\n",
      "180000 6976.7883767798585 7715101.73661\n",
      "190000 6838.640078571868 7745913.09711\n",
      "200000 6703.227272866611 7715101.73661\n"
     ]
    }
   ],
   "source": [
    "schedule50, objs50=simulated_annealing(problem, greedy_clustering, verbose=False, T=10000, mu=1.00002, max_iter=200001)"
   ]
  },
  {
   "cell_type": "code",
   "execution_count": 32,
   "metadata": {
    "collapsed": false
   },
   "outputs": [
    {
     "data": {
      "text/plain": [
       "7705145.7066903505"
      ]
     },
     "execution_count": 32,
     "metadata": {},
     "output_type": "execute_result"
    }
   ],
   "source": [
    "schedule50.best_wrw"
   ]
  }
 ],
 "metadata": {
  "anaconda-cloud": {},
  "kernelspec": {
   "display_name": "Python [default]",
   "language": "python",
   "name": "python3"
  },
  "language_info": {
   "codemirror_mode": {
    "name": "ipython",
    "version": 3
   },
   "file_extension": ".py",
   "mimetype": "text/x-python",
   "name": "python",
   "nbconvert_exporter": "python",
   "pygments_lexer": "ipython3",
   "version": "3.5.2"
  }
 },
 "nbformat": 4,
 "nbformat_minor": 2
}
